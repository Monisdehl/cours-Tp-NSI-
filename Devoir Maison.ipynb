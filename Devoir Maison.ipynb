{
 "cells": [
  {
   "cell_type": "markdown",
   "metadata": {},
   "source": [
    "# Introduction aux compétences de Programmation"
   ]
  },
  {
   "cell_type": "markdown",
   "metadata": {},
   "source": [
    "## Les différentes compétences du programmeur\n",
    "Pour coder un programmeur utilise 4 compétences (de façon inconsciente). Comme vous apprenez, vous allez devoir faire l'effort de développer ces 4 compétences. Selon les gens, vous aurez plus ou moins de façilité à maitriser l'une où l'autre de ces compétences.\n",
    "* Lire un code informatique\n",
    "* Executer un code informatique\n",
    "* Comprendre un morceau de code\n",
    "* Concevoir (et adapter) un code\n"
   ]
  },
  {
   "cell_type": "markdown",
   "metadata": {},
   "source": [
    "\n",
    "\n",
    "### I Lire un code\n",
    "\n",
    "A aujourd'hui vous ne savez pas codé tout ce que vous voulez. Pour partir de votre statut d'apprenant à celui de développeur confirmé, vous allez devoir d'abord lire des bouts de code. C'est à dire il va falloir regarder un bout de code et comprendre ce qu'il fait ligne à ligne.\n",
    "\n",
    "Passons aux exercices :D"
   ]
  },
  {
   "cell_type": "markdown",
   "metadata": {},
   "source": [
    "#### I.1 Exercice 1 : Pour les scripts suivants donner le nom des variables et le type des variables"
   ]
  },
  {
   "cell_type": "code",
   "execution_count": 1,
   "metadata": {},
   "outputs": [],
   "source": [
    "# Script 1\n",
    "\n",
    "a = 1\n",
    "a = a + 1\n",
    "b = a\n",
    "L = [a,b,b+1]\n"
   ]
  },
  {
   "cell_type": "markdown",
   "metadata": {},
   "source": [
    "Réponse (à vous de remplir cette case :D) : a= int / b=int / L= list (il faut double cliquer sur le texte ^^)"
   ]
  },
  {
   "cell_type": "code",
   "execution_count": null,
   "metadata": {},
   "outputs": [],
   "source": [
    "# Script 2\n",
    "\n",
    "a = 2\n",
    "b = \"babar\"\n",
    "\"babar\"\n",
    "Liste = a\n",
    "String = {1 : \"un\",\"B\":b,\"babar\":\"babar\"}\n"
   ]
  },
  {
   "cell_type": "markdown",
   "metadata": {},
   "source": [
    "Réponse : a=int / b=str / liste=int / string=dico"
   ]
  },
  {
   "cell_type": "markdown",
   "metadata": {},
   "source": [
    "#### I.2 Exercice 2 : Pour les scripts suivants donner le nom des fonctions, les arguments de ces fonctions et ce qu'elles renvoient."
   ]
  },
  {
   "cell_type": "code",
   "execution_count": null,
   "metadata": {},
   "outputs": [],
   "source": [
    "# Script 1\n",
    "def Fonction1(a,b,c):\n",
    "    return a + b + c"
   ]
  },
  {
   "cell_type": "markdown",
   "metadata": {},
   "source": [
    "Réponse : fonction=Fonction / arguments= a,b,c / renvoi: a+b+c"
   ]
  },
  {
   "cell_type": "code",
   "execution_count": null,
   "metadata": {},
   "outputs": [],
   "source": [
    "\n",
    "# Script 2\n",
    "def AvecUnReturn(p,pp):\n",
    "    a = p + pp\n",
    "    print(a)"
   ]
  },
  {
   "cell_type": "markdown",
   "metadata": {},
   "source": [
    "Réponse : fonction=AvecUnReturn / arguments=p,pp / renvoi: p+pp"
   ]
  },
  {
   "cell_type": "code",
   "execution_count": null,
   "metadata": {},
   "outputs": [],
   "source": [
    "# Script 3\n",
    "\n",
    "def EnFaitIlNyAvaitPasDeReturnAvant(argument):\n",
    "    return str(argument)\n"
   ]
  },
  {
   "cell_type": "markdown",
   "metadata": {},
   "source": [
    "Réponse : fonction=EnFaitIlNyAvaitPasDeReturnAvant / argument=argument / renvoi= l'argument en chaine de cararctère."
   ]
  },
  {
   "cell_type": "code",
   "execution_count": null,
   "metadata": {},
   "outputs": [],
   "source": [
    "# Script 4\n",
    "def PasD_Inspiration():\n",
    "    a = input(\"Mettez un nombre\")\n",
    "    A = int(a)\n",
    "    return A + 3\n"
   ]
  },
  {
   "cell_type": "markdown",
   "metadata": {},
   "source": [
    "Réponse : fonction=PasD_Inspiration / argument= rien/ renvoi:???"
   ]
  },
  {
   "cell_type": "markdown",
   "metadata": {},
   "source": [
    "#### I.3) Exercice 3\n",
    "\n",
    "Dans les prochains scripts, donner le noms des variables et dire si elles sont locales ou globales. De plus donner leur type.\n",
    "\n",
    "Une variable locale est une variable à l'intérieur d'une fonction. C'est une variable intermédiaire que la console ne connait pas.\n",
    "\n",
    "Une variable globale est une variable définit à l'exterieur de toute fonction. Indication : Une classe et une fonction sont des variables globales."
   ]
  },
  {
   "cell_type": "code",
   "execution_count": null,
   "metadata": {},
   "outputs": [],
   "source": [
    "# Script 1\n",
    "\n",
    "a = 1\n",
    "b = \"2\"\n",
    "c = \"Babar\""
   ]
  },
  {
   "cell_type": "markdown",
   "metadata": {},
   "source": [
    "Réponse : a:int= globale / "
   ]
  },
  {
   "cell_type": "code",
   "execution_count": null,
   "metadata": {},
   "outputs": [],
   "source": [
    "\n",
    "# Script 2\n",
    "\n",
    "a = 1\n",
    "b = \"2\"\n",
    "\n",
    "def Babar(c):\n",
    "    return c"
   ]
  },
  {
   "cell_type": "markdown",
   "metadata": {},
   "source": [
    "Réponse : ................"
   ]
  },
  {
   "cell_type": "code",
   "execution_count": null,
   "metadata": {},
   "outputs": [],
   "source": [
    "# Script 3\n",
    "\n",
    "a = \"ff\"\n",
    "b = 3\n",
    "def Barbare(b):\n",
    "    c = b + 1\n",
    "    return c**2\n"
   ]
  },
  {
   "cell_type": "markdown",
   "metadata": {},
   "source": [
    "Réponse : ..........................."
   ]
  },
  {
   "cell_type": "code",
   "execution_count": null,
   "metadata": {},
   "outputs": [],
   "source": [
    "# Script 4\n",
    "\n",
    "a = 1\n",
    "deux = \"2\"\n",
    "def Trois():\n",
    "    aa = 3\n",
    "    b = 4\n",
    "    return a + b\n",
    "C = Trois()\n"
   ]
  },
  {
   "cell_type": "markdown",
   "metadata": {},
   "source": [
    "Réponse : ........................"
   ]
  },
  {
   "cell_type": "markdown",
   "metadata": {},
   "source": [
    "#### I.4) Exercice 4 : Recopier et corriger les scripts suivants \n"
   ]
  },
  {
   "cell_type": "code",
   "execution_count": null,
   "metadata": {},
   "outputs": [],
   "source": [
    "\n",
    "# Script 1\n",
    "\n",
    "def fonction():\n",
    "    return 3\n"
   ]
  },
  {
   "cell_type": "code",
   "execution_count": null,
   "metadata": {},
   "outputs": [],
   "source": [
    "# Script 2\n",
    "\n",
    "for i in range(3):\n",
    "    print(i)\n"
   ]
  },
  {
   "cell_type": "code",
   "execution_count": null,
   "metadata": {},
   "outputs": [],
   "source": [
    "# Script 3\n",
    "\n",
    "for i in range(3):\n",
    "    print(i)"
   ]
  },
  {
   "cell_type": "code",
   "execution_count": null,
   "metadata": {},
   "outputs": [],
   "source": [
    "# Script 4\n",
    "\n",
    "def Fonction():\n",
    "    a = \"Kikou\"\n",
    "    b = 2\n",
    "    return(a + b)"
   ]
  },
  {
   "cell_type": "markdown",
   "metadata": {},
   "source": [
    "### Compétence 2 : Executer\n",
    "\n",
    "A la fin de cette compétence vous serez capables de :\n",
    "* d'executer une cellule de code\n",
    "* de reconnaître une erreur (et de comprendre chaque type d'erreur)\n",
    "* de débugger une erreur simple\n",
    "* de voir ce qu'il y a dans des variables"
   ]
  },
  {
   "cell_type": "markdown",
   "metadata": {},
   "source": [
    "#### II.1 Exercice 1 :\n",
    "Pour les Scripts suivants, vous allez executer les codes suivants et écrire pour chaque script la quantité demandée."
   ]
  },
  {
   "cell_type": "code",
   "execution_count": 1,
   "metadata": {},
   "outputs": [],
   "source": [
    "\n",
    "# Script 1 : Calculer a\n",
    "\n",
    "a = 2\n",
    "b = 4\n",
    "a = b**a + a**b"
   ]
  },
  {
   "cell_type": "code",
   "execution_count": 2,
   "metadata": {},
   "outputs": [
    {
     "name": "stdout",
     "output_type": "stream",
     "text": [
      "32\n"
     ]
    }
   ],
   "source": [
    "print(a)"
   ]
  },
  {
   "cell_type": "markdown",
   "metadata": {},
   "source": [
    "Réponse : a= 16 + 16"
   ]
  },
  {
   "cell_type": "code",
   "execution_count": 5,
   "metadata": {},
   "outputs": [
    {
     "name": "stdout",
     "output_type": "stream",
     "text": [
      "[0]\n",
      "[0, 1]\n",
      "[0, 1, 4]\n",
      "[0, 1, 4, 9]\n",
      "[0, 1, 4, 9, 16]\n",
      "[0, 1, 4, 9, 16, 25]\n",
      "[0, 1, 4, 9, 16, 25, 36]\n",
      "[0, 1, 4, 9, 16, 25, 36, 49]\n",
      "[0, 1, 4, 9, 16, 25, 36, 49, 64]\n"
     ]
    }
   ],
   "source": [
    "# Script 2 : Ecrire le dernier élément de L\n",
    "\n",
    "L = []\n",
    "for i in range(9):\n",
    "    L.append(i**2)\n",
    "    "
   ]
  },
  {
   "cell_type": "code",
   "execution_count": 6,
   "metadata": {},
   "outputs": [
    {
     "name": "stdout",
     "output_type": "stream",
     "text": [
      "[0, 1, 4, 9, 16, 25, 36, 49, 64]\n"
     ]
    }
   ],
   "source": [
    "print(L)"
   ]
  },
  {
   "cell_type": "markdown",
   "metadata": {},
   "source": [
    "Réponse 0, 1, 4, 9, 16, 25, 36, 49, 64"
   ]
  },
  {
   "cell_type": "code",
   "execution_count": 16,
   "metadata": {},
   "outputs": [
    {
     "data": {
      "text/plain": [
       "5"
      ]
     },
     "execution_count": 16,
     "metadata": {},
     "output_type": "execute_result"
    }
   ],
   "source": [
    "\n",
    "# Script 3 : Donner f(3)\n",
    "\n",
    "def f(n):\n",
    "    L = []\n",
    "    for i in range(3):\n",
    "        L.append(i**2)\n",
    "    s = sum(L)\n",
    "    return s\n",
    "f(n)"
   ]
  },
  {
   "cell_type": "code",
   "execution_count": null,
   "metadata": {},
   "outputs": [],
   "source": []
  },
  {
   "cell_type": "markdown",
   "metadata": {},
   "source": [
    "Réponse : ......................."
   ]
  },
  {
   "cell_type": "code",
   "execution_count": 12,
   "metadata": {},
   "outputs": [],
   "source": [
    "\n",
    "# Script 4 : A priori que devrait donner f(3) et calculer f(3)\n",
    "\n",
    "n = 5\n",
    "def f(n):\n",
    "    return n + 1"
   ]
  },
  {
   "cell_type": "markdown",
   "metadata": {},
   "source": [
    "Réponse 1 : 6"
   ]
  },
  {
   "cell_type": "code",
   "execution_count": null,
   "metadata": {},
   "outputs": [],
   "source": []
  },
  {
   "cell_type": "markdown",
   "metadata": {},
   "source": [
    "Réponse 2 : ...................."
   ]
  },
  {
   "cell_type": "markdown",
   "metadata": {},
   "source": [
    "#### II.2) Exercice 2 : \n",
    "\n",
    "Dans les scripts suivants, vous allez avoir une NameError.\n",
    "\"NameError : name '...' is not defined\". Trouver d'où vient l'erreur et pourquoi on a cette erreur ? et corriger l'erreur.\n",
    "Ecrire ensuite le script corrigé"
   ]
  },
  {
   "cell_type": "code",
   "execution_count": 17,
   "metadata": {},
   "outputs": [
    {
     "ename": "NameError",
     "evalue": "name 'alpha' is not defined",
     "output_type": "error",
     "traceback": [
      "\u001b[1;31m---------------------------------------------------------------------------\u001b[0m",
      "\u001b[1;31mNameError\u001b[0m                                 Traceback (most recent call last)",
      "\u001b[1;32mc:\\Users\\monisdehloum\\Desktop\\nsi\\Chapitre 1 Introduction\\Devoir Maison.ipynb Cell 48\u001b[0m line \u001b[0;36m3\n\u001b[0;32m      <a href='vscode-notebook-cell:/c%3A/Users/monisdehloum/Desktop/nsi/Chapitre%201%20Introduction/Devoir%20Maison.ipynb#X65sZmlsZQ%3D%3D?line=0'>1</a>\u001b[0m \u001b[39m# Script 1 : alpha est un nombre\u001b[39;00m\n\u001b[1;32m----> <a href='vscode-notebook-cell:/c%3A/Users/monisdehloum/Desktop/nsi/Chapitre%201%20Introduction/Devoir%20Maison.ipynb#X65sZmlsZQ%3D%3D?line=2'>3</a>\u001b[0m beta \u001b[39m=\u001b[39m alpha \u001b[39m+\u001b[39m \u001b[39m1\u001b[39m\n",
      "\u001b[1;31mNameError\u001b[0m: name 'alpha' is not defined"
     ]
    }
   ],
   "source": [
    "\n",
    "# Script 1 : alpha est un nombre\n",
    "\n",
    "beta = alpha + 1"
   ]
  },
  {
   "cell_type": "markdown",
   "metadata": {},
   "source": [
    "Réponse : alpha est une variable non définie"
   ]
  },
  {
   "cell_type": "code",
   "execution_count": 1,
   "metadata": {},
   "outputs": [],
   "source": [
    "alpha= 1\n",
    "beta = alpha + 1\n"
   ]
  },
  {
   "cell_type": "code",
   "execution_count": 3,
   "metadata": {},
   "outputs": [
    {
     "ename": "NameError",
     "evalue": "name 'string' is not defined",
     "output_type": "error",
     "traceback": [
      "\u001b[1;31m---------------------------------------------------------------------------\u001b[0m",
      "\u001b[1;31mNameError\u001b[0m                                 Traceback (most recent call last)",
      "\u001b[1;32mc:\\Users\\monisdehloum\\Desktop\\nsi\\Chapitre 1 Introduction\\Devoir Maison.ipynb Cell 51\u001b[0m line \u001b[0;36m3\n\u001b[0;32m      <a href='vscode-notebook-cell:/c%3A/Users/monisdehloum/Desktop/nsi/Chapitre%201%20Introduction/Devoir%20Maison.ipynb#Y101sZmlsZQ%3D%3D?line=0'>1</a>\u001b[0m \u001b[39m# Script 2 : String est un string\u001b[39;00m\n\u001b[1;32m----> <a href='vscode-notebook-cell:/c%3A/Users/monisdehloum/Desktop/nsi/Chapitre%201%20Introduction/Devoir%20Maison.ipynb#Y101sZmlsZQ%3D%3D?line=2'>3</a>\u001b[0m string\u001b[39m.\u001b[39mupper()\n",
      "\u001b[1;31mNameError\u001b[0m: name 'string' is not defined"
     ]
    }
   ],
   "source": [
    "# Script 2 : String est un string\n",
    "\n",
    "String.upper()"
   ]
  },
  {
   "cell_type": "markdown",
   "metadata": {},
   "source": [
    "Réponse : La variable n'est pas definie"
   ]
  },
  {
   "cell_type": "code",
   "execution_count": 9,
   "metadata": {},
   "outputs": [
    {
     "data": {
      "text/plain": [
       "'OUIEHRGUHERIOUG'"
      ]
     },
     "execution_count": 9,
     "metadata": {},
     "output_type": "execute_result"
    }
   ],
   "source": [
    "String=\"ouiehrguherioug\"\n",
    "String.upper()\n"
   ]
  },
  {
   "cell_type": "code",
   "execution_count": 12,
   "metadata": {},
   "outputs": [
    {
     "name": "stdout",
     "output_type": "stream",
     "text": [
      "caca\n"
     ]
    },
    {
     "ename": "AttributeError",
     "evalue": "'str' object has no attribute 'append'",
     "output_type": "error",
     "traceback": [
      "\u001b[1;31m---------------------------------------------------------------------------\u001b[0m",
      "\u001b[1;31mAttributeError\u001b[0m                            Traceback (most recent call last)",
      "\u001b[1;32mc:\\Users\\monisdehloum\\Desktop\\nsi\\Chapitre 1 Introduction\\Devoir Maison.ipynb Cell 54\u001b[0m line \u001b[0;36m7\n\u001b[0;32m      <a href='vscode-notebook-cell:/c%3A/Users/monisdehloum/Desktop/nsi/Chapitre%201%20Introduction/Devoir%20Maison.ipynb#Y104sZmlsZQ%3D%3D?line=4'>5</a>\u001b[0m         LListe\u001b[39m.\u001b[39mappend(i)\n\u001b[0;32m      <a href='vscode-notebook-cell:/c%3A/Users/monisdehloum/Desktop/nsi/Chapitre%201%20Introduction/Devoir%20Maison.ipynb#Y104sZmlsZQ%3D%3D?line=5'>6</a>\u001b[0m \u001b[39mprint\u001b[39m(LListe)\n\u001b[1;32m----> <a href='vscode-notebook-cell:/c%3A/Users/monisdehloum/Desktop/nsi/Chapitre%201%20Introduction/Devoir%20Maison.ipynb#Y104sZmlsZQ%3D%3D?line=6'>7</a>\u001b[0m test()\n",
      "\u001b[1;32mc:\\Users\\monisdehloum\\Desktop\\nsi\\Chapitre 1 Introduction\\Devoir Maison.ipynb Cell 54\u001b[0m line \u001b[0;36m5\n\u001b[0;32m      <a href='vscode-notebook-cell:/c%3A/Users/monisdehloum/Desktop/nsi/Chapitre%201%20Introduction/Devoir%20Maison.ipynb#Y104sZmlsZQ%3D%3D?line=2'>3</a>\u001b[0m LListe\u001b[39m=\u001b[39m\u001b[39m\"\u001b[39m\u001b[39mcaca\u001b[39m\u001b[39m\"\u001b[39m\n\u001b[0;32m      <a href='vscode-notebook-cell:/c%3A/Users/monisdehloum/Desktop/nsi/Chapitre%201%20Introduction/Devoir%20Maison.ipynb#Y104sZmlsZQ%3D%3D?line=3'>4</a>\u001b[0m \u001b[39mfor\u001b[39;00m i \u001b[39min\u001b[39;00m \u001b[39mrange\u001b[39m(\u001b[39m9\u001b[39m):\n\u001b[1;32m----> <a href='vscode-notebook-cell:/c%3A/Users/monisdehloum/Desktop/nsi/Chapitre%201%20Introduction/Devoir%20Maison.ipynb#Y104sZmlsZQ%3D%3D?line=4'>5</a>\u001b[0m     LListe\u001b[39m.\u001b[39;49mappend(i)\n",
      "\u001b[1;31mAttributeError\u001b[0m: 'str' object has no attribute 'append'"
     ]
    }
   ],
   "source": [
    "# Script 3 : LListe est une liste\n",
    "def test():\n",
    "    LListe=\"caca\"\n",
    "    for i in range(9):\n",
    "        LListe.append(i)\n",
    "print(LListe)\n",
    "test()"
   ]
  },
  {
   "cell_type": "markdown",
   "metadata": {},
   "source": [
    "Réponse : "
   ]
  },
  {
   "cell_type": "code",
   "execution_count": null,
   "metadata": {},
   "outputs": [],
   "source": []
  },
  {
   "cell_type": "code",
   "execution_count": 13,
   "metadata": {},
   "outputs": [
    {
     "ename": "NameError",
     "evalue": "name 'Dico' is not defined",
     "output_type": "error",
     "traceback": [
      "\u001b[1;31m---------------------------------------------------------------------------\u001b[0m",
      "\u001b[1;31mNameError\u001b[0m                                 Traceback (most recent call last)",
      "\u001b[1;32mc:\\Users\\monisdehloum\\Desktop\\nsi\\Chapitre 1 Introduction\\Devoir Maison.ipynb Cell 57\u001b[0m line \u001b[0;36m3\n\u001b[0;32m      <a href='vscode-notebook-cell:/c%3A/Users/monisdehloum/Desktop/nsi/Chapitre%201%20Introduction/Devoir%20Maison.ipynb#Y110sZmlsZQ%3D%3D?line=0'>1</a>\u001b[0m \u001b[39m# Script 4 : Dico est un Dictionnaire\u001b[39;00m\n\u001b[1;32m----> <a href='vscode-notebook-cell:/c%3A/Users/monisdehloum/Desktop/nsi/Chapitre%201%20Introduction/Devoir%20Maison.ipynb#Y110sZmlsZQ%3D%3D?line=2'>3</a>\u001b[0m Dico[\u001b[39m\"\u001b[39m\u001b[39mAA\u001b[39m\u001b[39m\"\u001b[39m] \u001b[39m=\u001b[39m \u001b[39m\"\u001b[39m\u001b[39maa\u001b[39m\u001b[39m\"\u001b[39m\n",
      "\u001b[1;31mNameError\u001b[0m: name 'Dico' is not defined"
     ]
    }
   ],
   "source": [
    "# Script 4 : Dico est un Dictionnaire\n",
    "\n",
    "Dico[\"AA\"] = \"aa\""
   ]
  },
  {
   "cell_type": "markdown",
   "metadata": {},
   "source": [
    "Réponse : dico pas definit"
   ]
  },
  {
   "cell_type": "code",
   "execution_count": 19,
   "metadata": {},
   "outputs": [
    {
     "name": "stdout",
     "output_type": "stream",
     "text": [
      "{'AA': 'aa', 'BB': 'cc'}\n"
     ]
    }
   ],
   "source": [
    "Dico={\"AA\":\"\",\"BB\": \"cc\"}\n",
    "Dico[\"AA\"] = \"aa\"\n",
    "print(Dico)\n"
   ]
  },
  {
   "cell_type": "code",
   "execution_count": 22,
   "metadata": {},
   "outputs": [
    {
     "ename": "NameError",
     "evalue": "name 'gamma' is not defined",
     "output_type": "error",
     "traceback": [
      "\u001b[1;31m---------------------------------------------------------------------------\u001b[0m",
      "\u001b[1;31mNameError\u001b[0m                                 Traceback (most recent call last)",
      "\u001b[1;32mc:\\Users\\monisdehloum\\Desktop\\nsi\\Chapitre 1 Introduction\\Devoir Maison.ipynb Cell 60\u001b[0m line \u001b[0;36m7\n\u001b[0;32m      <a href='vscode-notebook-cell:/c%3A/Users/monisdehloum/Desktop/nsi/Chapitre%201%20Introduction/Devoir%20Maison.ipynb#Y113sZmlsZQ%3D%3D?line=3'>4</a>\u001b[0m     delta \u001b[39m=\u001b[39m gamma \u001b[39m+\u001b[39m \u001b[39m1\u001b[39m\n\u001b[0;32m      <a href='vscode-notebook-cell:/c%3A/Users/monisdehloum/Desktop/nsi/Chapitre%201%20Introduction/Devoir%20Maison.ipynb#Y113sZmlsZQ%3D%3D?line=4'>5</a>\u001b[0m     \u001b[39mreturn\u001b[39;00m delta\n\u001b[1;32m----> <a href='vscode-notebook-cell:/c%3A/Users/monisdehloum/Desktop/nsi/Chapitre%201%20Introduction/Devoir%20Maison.ipynb#Y113sZmlsZQ%3D%3D?line=6'>7</a>\u001b[0m \u001b[39mprint\u001b[39m(gamma)\n",
      "\u001b[1;31mNameError\u001b[0m: name 'gamma' is not defined"
     ]
    }
   ],
   "source": [
    "# Script 5 : gamma est un nombre\n",
    "\n",
    "def f(gamma):\n",
    "    delta = gamma + 1\n",
    "    return delta\n",
    "\n",
    "print(gamma)"
   ]
  },
  {
   "cell_type": "markdown",
   "metadata": {},
   "source": [
    "Réponse : gamma est une valeur locale et print n'est pas dans le bloc de fonction. De plus return est déjà présent."
   ]
  },
  {
   "cell_type": "code",
   "execution_count": 29,
   "metadata": {},
   "outputs": [
    {
     "data": {
      "text/plain": [
       "6"
      ]
     },
     "execution_count": 29,
     "metadata": {},
     "output_type": "execute_result"
    }
   ],
   "source": [
    "def f(gamma):\n",
    "    delta = gamma + 1\n",
    "    return delta\n",
    "\n",
    "    \n",
    "\n",
    "f(5)"
   ]
  },
  {
   "cell_type": "code",
   "execution_count": 30,
   "metadata": {},
   "outputs": [
    {
     "ename": "NameError",
     "evalue": "name 'delta' is not defined",
     "output_type": "error",
     "traceback": [
      "\u001b[1;31m---------------------------------------------------------------------------\u001b[0m",
      "\u001b[1;31mNameError\u001b[0m                                 Traceback (most recent call last)",
      "\u001b[1;32mc:\\Users\\monisdehloum\\Desktop\\nsi\\Chapitre 1 Introduction\\Devoir Maison.ipynb Cell 63\u001b[0m line \u001b[0;36m7\n\u001b[0;32m      <a href='vscode-notebook-cell:/c%3A/Users/monisdehloum/Desktop/nsi/Chapitre%201%20Introduction/Devoir%20Maison.ipynb#Y116sZmlsZQ%3D%3D?line=3'>4</a>\u001b[0m     delta \u001b[39m=\u001b[39m gamma \u001b[39m+\u001b[39m \u001b[39m1\u001b[39m\n\u001b[0;32m      <a href='vscode-notebook-cell:/c%3A/Users/monisdehloum/Desktop/nsi/Chapitre%201%20Introduction/Devoir%20Maison.ipynb#Y116sZmlsZQ%3D%3D?line=4'>5</a>\u001b[0m     \u001b[39mreturn\u001b[39;00m delta\n\u001b[1;32m----> <a href='vscode-notebook-cell:/c%3A/Users/monisdehloum/Desktop/nsi/Chapitre%201%20Introduction/Devoir%20Maison.ipynb#Y116sZmlsZQ%3D%3D?line=6'>7</a>\u001b[0m \u001b[39mprint\u001b[39m(delta)\n",
      "\u001b[1;31mNameError\u001b[0m: name 'delta' is not defined"
     ]
    }
   ],
   "source": [
    "# Script 6 : delta est un nombre\n",
    "\n",
    "def f(gamma):\n",
    "    delta = gamma + 1\n",
    "    return delta\n",
    "\n",
    "print(delta)"
   ]
  },
  {
   "cell_type": "markdown",
   "metadata": {},
   "source": [
    "Réponse : delta n'a pas de valeur (indéfini)"
   ]
  },
  {
   "cell_type": "code",
   "execution_count": 31,
   "metadata": {},
   "outputs": [
    {
     "name": "stdout",
     "output_type": "stream",
     "text": [
      "99\n"
     ]
    }
   ],
   "source": [
    "#Script corrigé \n",
    "delta=99\n",
    "def f(gamma):\n",
    "    delta = gamma + 1\n",
    "    return delta\n",
    "\n",
    "print(delta)"
   ]
  },
  {
   "cell_type": "markdown",
   "metadata": {},
   "source": [
    "### II.3) Exercice 3 \n",
    "Dans cet exercice on va obtenir des TypeError. Vous obtenez cette erreur lorsque vous utilisez une opération en deux variables de types différents.\n",
    "\n",
    "Ecrivez à la suite les scripts corrigés."
   ]
  },
  {
   "cell_type": "code",
   "execution_count": 32,
   "metadata": {},
   "outputs": [],
   "source": [
    "# Script 1 : On veut concatener écrire \"Script 1\"\n",
    "\n",
    "str = \"Script \"\n",
    "a = 1\n",
    "Script1 = str + a"
   ]
  },
  {
   "cell_type": "code",
   "execution_count": null,
   "metadata": {},
   "outputs": [],
   "source": [
    "\n",
    "str = \"Script \"\n",
    "a = \"1\"\n",
    "Script1 = str + a"
   ]
  },
  {
   "cell_type": "code",
   "execution_count": null,
   "metadata": {},
   "outputs": [],
   "source": [
    "# Script 2 : On veut calculer 1.2 au carré\n",
    "\n",
    "u = 1,2\n",
    "v = u**2"
   ]
  },
  {
   "cell_type": "code",
   "execution_count": 33,
   "metadata": {},
   "outputs": [],
   "source": [
    "u = 1.2\n",
    "v = u**2"
   ]
  },
  {
   "cell_type": "code",
   "execution_count": 34,
   "metadata": {},
   "outputs": [
    {
     "ename": "TypeError",
     "evalue": "can only concatenate list (not \"str\") to list",
     "output_type": "error",
     "traceback": [
      "\u001b[1;31m---------------------------------------------------------------------------\u001b[0m",
      "\u001b[1;31mTypeError\u001b[0m                                 Traceback (most recent call last)",
      "\u001b[1;32mc:\\Users\\monisdehloum\\Desktop\\nsi\\Chapitre 1 Introduction\\Devoir Maison.ipynb Cell 71\u001b[0m line \u001b[0;36m6\n\u001b[0;32m      <a href='vscode-notebook-cell:/c%3A/Users/monisdehloum/Desktop/nsi/Chapitre%201%20Introduction/Devoir%20Maison.ipynb#Y130sZmlsZQ%3D%3D?line=3'>4</a>\u001b[0m \u001b[39mfor\u001b[39;00m lettre \u001b[39min\u001b[39;00m \u001b[39m\"\u001b[39m\u001b[39mMaison\u001b[39m\u001b[39m\"\u001b[39m:\n\u001b[0;32m      <a href='vscode-notebook-cell:/c%3A/Users/monisdehloum/Desktop/nsi/Chapitre%201%20Introduction/Devoir%20Maison.ipynb#Y130sZmlsZQ%3D%3D?line=4'>5</a>\u001b[0m     L\u001b[39m.\u001b[39mappend(lettre)\n\u001b[1;32m----> <a href='vscode-notebook-cell:/c%3A/Users/monisdehloum/Desktop/nsi/Chapitre%201%20Introduction/Devoir%20Maison.ipynb#Y130sZmlsZQ%3D%3D?line=5'>6</a>\u001b[0m Str \u001b[39m=\u001b[39m L \u001b[39m+\u001b[39;49m \u001b[39m\"\u001b[39;49m\u001b[39mJolie\u001b[39;49m\u001b[39m\"\u001b[39;49m\n",
      "\u001b[1;31mTypeError\u001b[0m: can only concatenate list (not \"str\") to list"
     ]
    }
   ],
   "source": [
    "# Script 3 : On veut faire un string \"Maison Jolie\"\n",
    "\n",
    "L = []\n",
    "for lettre in \"Maison\":\n",
    "    L.append(lettre)\n",
    "Str = L + \"Jolie\""
   ]
  },
  {
   "cell_type": "markdown",
   "metadata": {},
   "source": [
    "Réponse: On ne peut pas ajouter une valeur str de cette façon dans une liste"
   ]
  },
  {
   "cell_type": "code",
   "execution_count": 37,
   "metadata": {},
   "outputs": [
    {
     "name": "stdout",
     "output_type": "stream",
     "text": [
      "['J', 'o', 'l', 'i', 'e', ' ', 'M', 'a', 'i', 's', 'o', 'n']\n"
     ]
    }
   ],
   "source": [
    "L = []\n",
    "for lettre in \"Jolie Maison\":\n",
    "    L.append(lettre)\n",
    "\n",
    "print(L)"
   ]
  },
  {
   "cell_type": "markdown",
   "metadata": {},
   "source": [
    "## III) Comprendre \n",
    "\n",
    "Cette compétence est celle qui me parait la plus difficile. Vous devez vous abstraire du code ligne à ligne et comprendre ce que le code fait dans sa globalité. Pourquoi on a mis cette boucle ? Que représente cette  variable ? Que fait cette fonction ? etc ....\n",
    "\n",
    "Vous allez devoir travailler cette compétence, tout le long de l'année. Dans les prochains exercices, on ne fera que des exemples assez simples. Essayez de les faire sans trop d'aide."
   ]
  },
  {
   "cell_type": "markdown",
   "metadata": {},
   "source": [
    "#### III.1) Exercice 1\n",
    "\n",
    "Expliquer comment le script fonctionne et ce que l'on veut calculer.\n"
   ]
  },
  {
   "cell_type": "code",
   "execution_count": null,
   "metadata": {},
   "outputs": [],
   "source": [
    "\n",
    "def f(i):\n",
    "    j = (i+1)**2\n",
    "    return j\n",
    "\n",
    "S = 0\n",
    "for i in range(1000):\n",
    "    S = S  + f(i)"
   ]
  },
  {
   "cell_type": "code",
   "execution_count": null,
   "metadata": {},
   "outputs": [],
   "source": [
    "# Un bloc de code si vous voulez tester des trucs"
   ]
  },
  {
   "cell_type": "markdown",
   "metadata": {},
   "source": [
    "Réponse :  Script 1 : dans la fonction f, on calcule la variable j qui vaut l'argument \"i\" + 1 le tout au carré.\n",
    "           Dans la boucle, on fait la somme de 1000 fois \"j\"."
   ]
  },
  {
   "cell_type": "code",
   "execution_count": null,
   "metadata": {},
   "outputs": [],
   "source": [
    "# Script 2 :Dans la fonction Cube on calcule un nombre (\"n\") à la puissance 3 que l'on stocke dans la variable m.\n",
    "            #Dans la fonction Inverse on calcule l'inverse d'un nombre (\"x\"), qui sera stocké dans la variable y.\n",
    "            #Dans la fonction UnSurXauCube on ajoute l'inverse du cube des valeurs de X à la liste Y.\n",
    "def Cube(n):\n",
    "    m = n**3\n",
    "    return m\n",
    "\n",
    "def Inverse(x):\n",
    "    y = 1/x\n",
    "    return y\n",
    "\n",
    "def UnSurXauCube(n):\n",
    "    X = list(range(1,n))\n",
    "    Y = []\n",
    "    for x in X:\n",
    "        y = Inverse(Cube(x))\n",
    "        Y.append(y)\n",
    "    return (X,Y)"
   ]
  },
  {
   "cell_type": "code",
   "execution_count": 39,
   "metadata": {},
   "outputs": [
    {
     "ename": "NameError",
     "evalue": "name 'Inverse' is not defined",
     "output_type": "error",
     "traceback": [
      "\u001b[1;31m---------------------------------------------------------------------------\u001b[0m",
      "\u001b[1;31mNameError\u001b[0m                                 Traceback (most recent call last)",
      "\u001b[1;32mc:\\Users\\monisdehloum\\Desktop\\nsi\\Chapitre 1 Introduction\\Devoir Maison.ipynb Cell 80\u001b[0m line \u001b[0;36m1\n\u001b[0;32m      <a href='vscode-notebook-cell:/c%3A/Users/monisdehloum/Desktop/nsi/Chapitre%201%20Introduction/Devoir%20Maison.ipynb#Y141sZmlsZQ%3D%3D?line=6'>7</a>\u001b[0m         Y\u001b[39m.\u001b[39mappend(y)\n\u001b[0;32m      <a href='vscode-notebook-cell:/c%3A/Users/monisdehloum/Desktop/nsi/Chapitre%201%20Introduction/Devoir%20Maison.ipynb#Y141sZmlsZQ%3D%3D?line=7'>8</a>\u001b[0m     \u001b[39mreturn\u001b[39;00m (X,Y)\n\u001b[1;32m---> <a href='vscode-notebook-cell:/c%3A/Users/monisdehloum/Desktop/nsi/Chapitre%201%20Introduction/Devoir%20Maison.ipynb#Y141sZmlsZQ%3D%3D?line=9'>10</a>\u001b[0m UnSurXauCube(\u001b[39m5\u001b[39;49m)\n",
      "\u001b[1;32mc:\\Users\\monisdehloum\\Desktop\\nsi\\Chapitre 1 Introduction\\Devoir Maison.ipynb Cell 80\u001b[0m line \u001b[0;36m6\n\u001b[0;32m      <a href='vscode-notebook-cell:/c%3A/Users/monisdehloum/Desktop/nsi/Chapitre%201%20Introduction/Devoir%20Maison.ipynb#Y141sZmlsZQ%3D%3D?line=3'>4</a>\u001b[0m Y \u001b[39m=\u001b[39m []\n\u001b[0;32m      <a href='vscode-notebook-cell:/c%3A/Users/monisdehloum/Desktop/nsi/Chapitre%201%20Introduction/Devoir%20Maison.ipynb#Y141sZmlsZQ%3D%3D?line=4'>5</a>\u001b[0m \u001b[39mfor\u001b[39;00m x \u001b[39min\u001b[39;00m X:\n\u001b[1;32m----> <a href='vscode-notebook-cell:/c%3A/Users/monisdehloum/Desktop/nsi/Chapitre%201%20Introduction/Devoir%20Maison.ipynb#Y141sZmlsZQ%3D%3D?line=5'>6</a>\u001b[0m     y \u001b[39m=\u001b[39m Inverse(Cube(x))\n\u001b[0;32m      <a href='vscode-notebook-cell:/c%3A/Users/monisdehloum/Desktop/nsi/Chapitre%201%20Introduction/Devoir%20Maison.ipynb#Y141sZmlsZQ%3D%3D?line=6'>7</a>\u001b[0m     Y\u001b[39m.\u001b[39mappend(y)\n\u001b[0;32m      <a href='vscode-notebook-cell:/c%3A/Users/monisdehloum/Desktop/nsi/Chapitre%201%20Introduction/Devoir%20Maison.ipynb#Y141sZmlsZQ%3D%3D?line=7'>8</a>\u001b[0m \u001b[39mreturn\u001b[39;00m (X,Y)\n",
      "\u001b[1;31mNameError\u001b[0m: name 'Inverse' is not defined"
     ]
    }
   ],
   "source": []
  },
  {
   "cell_type": "markdown",
   "metadata": {},
   "source": [
    "Réponse : ............................."
   ]
  },
  {
   "cell_type": "code",
   "execution_count": 2,
   "metadata": {},
   "outputs": [
    {
     "data": {
      "text/plain": [
       "'p'"
      ]
     },
     "execution_count": 2,
     "metadata": {},
     "output_type": "execute_result"
    }
   ],
   "source": [
    "Alphabet = [\"a\",\"b\",\"c\",\"d\",\"e\",\"f\",\"g\",\"h\",\"i\",\"j\",\"k\",\"l\",\"m\",\"n\",\"o\",\"p\",\"q\",\"r\",\"s\",\"t\",\"u\",\"v\",\"w\",\"x\",\"y\",\"z\"]\n",
    "lettreminuscule = \"m\"\n",
    "code = Alphabet.index(lettreminuscule)\n",
    "Alphabet[code + 3]"
   ]
  },
  {
   "cell_type": "code",
   "execution_count": null,
   "metadata": {},
   "outputs": [],
   "source": [
    "# Script 3\n",
    "\n",
    "def Transm(lettre):\n",
    "    Alphabet = [\"a\",\"b\",\"c\",\"d\",\"e\",\"f\",\"g\",\"h\",\"i\",\"j\",\"k\",\"l\",\"m\",\"n\",\"o\",\"p\",\"q\",\"r\",\"s\",\"t\",\"u\",\"v\",\"w\",\"x\",\"y\",\"z\"]\n",
    "    if type(lettre)  == str and len(lettre) == 1:\n",
    "        lettreminuscule = lettre.lower()\n",
    "        code = Alphabet.index(lettreminuscule)\n",
    "    else:\n",
    "        code = -1\n",
    "    return code\n",
    "\n",
    "def DeformCode(code,coeff):\n",
    "    if code == -1:\n",
    "        NouveauCode = -1\n",
    "    else:\n",
    "        NouveauCode = code + coeff\n",
    "        # On ramène le nouveau code dans [0,25] en faisant une division euclidienne par 26\n",
    "        NouveauCode = NouveauCode % 26\n",
    "    return NouveauCode\n",
    "\n",
    "def CodeVersLettre(code):\n",
    "    Alphabet = [\"a\",\"b\",\"c\",\"d\",\"e\",\"f\",\"g\",\"h\",\"i\",\"j\",\"k\",\"l\",\"m\",\"n\",\"o\",\"p\",\"q\",\"r\",\"s\",\"t\",\"u\",\"v\",\"w\",\"x\",\"y\",\"z\"]\n",
    "    NouvelleLettre = Alphabet[code]\n",
    "    return NouvelleLettre\n",
    "\n",
    "\n",
    "def TransformerMot(mot,coeff):\n",
    "    NouveauMot = \"\"\n",
    "    for lettre in mot:\n",
    "        code = Transm(lettre)\n",
    "        NouvCode = DeformCode(code,coeff)\n",
    "        NouvLettre = CodeVersLettre(NouvCode)\n",
    "        NouveauMot = NouveauMot + NouvLettre\n",
    "    return NouveauMot\n",
    "\n",
    "def TransformerMotAlea(mot):\n",
    "    import random\n",
    "    u = random.randint(1,1000)\n",
    "    NouveauMot = TransformerMot(mot,u)\n",
    "    return NouveauMot"
   ]
  },
  {
   "cell_type": "code",
   "execution_count": null,
   "metadata": {},
   "outputs": [],
   "source": [
    "# Pour tester "
   ]
  },
  {
   "cell_type": "markdown",
   "metadata": {},
   "source": [
    "Réponse : ..................... \n",
    "\n",
    "Conseil : Prenez une feuille et un stylo et ecrivez ce que fais chaque fonction ce qu'elle prends en entrée et en sortie et comment elles interagissent entre elles."
   ]
  },
  {
   "cell_type": "code",
   "execution_count": null,
   "metadata": {},
   "outputs": [],
   "source": [
    "# Script 4 :\n",
    "\n",
    "import random\n",
    "\n",
    "ListeNombreAuHasard = []\n",
    "\n",
    "for i in range(1000):\n",
    "    u = random.randint(-10000,10000)\n",
    "    ListeNombreAuHasard.append(u)  \n",
    "\n",
    "Compteur = 0\n",
    "for nombre in ListeNombreAuHasard:\n",
    "    if nombre %2 == 0:  # Si nombre est pair\n",
    "        Compteur = Compteur + 1"
   ]
  },
  {
   "cell_type": "markdown",
   "metadata": {},
   "source": [
    "Réponse : ......................."
   ]
  },
  {
   "cell_type": "markdown",
   "metadata": {},
   "source": [
    "## IV) Concevoir \n",
    "Bon vous allez pas être des gens qui ne développe rien :) Dernière compétence : Concevoir des solutions informatiques à des problèmes. Comme pour la compétence 3, on va commencer par des problèmes simples :)\n",
    "\n",
    "Ceux là aussi essayer de les faire sans aide. Plus tard aucun soucis pour vous aider mais au début il faut rentrer dedans seul :D"
   ]
  },
  {
   "cell_type": "markdown",
   "metadata": {},
   "source": [
    "#### IV.1) Exercice 1 \n",
    "Faire un programme qui calcule votre age en 2060"
   ]
  },
  {
   "cell_type": "code",
   "execution_count": 51,
   "metadata": {},
   "outputs": [
    {
     "name": "stdout",
     "output_type": "stream",
     "text": [
      "53\n"
     ]
    }
   ],
   "source": [
    "def test():\n",
    "    age=16\n",
    "    annee=2023\n",
    "    while annee<2060:\n",
    "        age=age+1 \n",
    "        annee=annee+1\n",
    "    print(age) \n",
    "test()"
   ]
  },
  {
   "cell_type": "markdown",
   "metadata": {},
   "source": [
    "#### IV.2) Exercice 2 \n",
    "Pour un nombre <code> n </code> donné calculer le carré du triple du nombre"
   ]
  },
  {
   "cell_type": "code",
   "execution_count": 53,
   "metadata": {},
   "outputs": [
    {
     "name": "stdout",
     "output_type": "stream",
     "text": [
      "1712494609344\n"
     ]
    }
   ],
   "source": [
    "n = 3988\n",
    "n=n*3\n",
    "n=n**3\n",
    "print(n)"
   ]
  },
  {
   "cell_type": "markdown",
   "metadata": {},
   "source": [
    "#### IV.3) Exercice 3 \n",
    "\n",
    "On lance deux dés à six faces parfaitement équilibrés et on additionne les deux résultats obtenus. Écrire un programme qui modélise les lancers de ces deux dés et qui donne le nombre <code>n</code> de lancers qu’il a fallu pour obtenir la somme 12. On veut voir le résultat des 2 dés à chaque tour."
   ]
  },
  {
   "cell_type": "code",
   "execution_count": 56,
   "metadata": {},
   "outputs": [
    {
     "ename": "KeyboardInterrupt",
     "evalue": "",
     "output_type": "error",
     "traceback": [
      "\u001b[1;31m---------------------------------------------------------------------------\u001b[0m",
      "\u001b[1;31mKeyboardInterrupt\u001b[0m                         Traceback (most recent call last)",
      "\u001b[1;32mc:\\Users\\monisdehloum\\Desktop\\nsi\\Chapitre 1 Introduction\\Devoir Maison.ipynb Cell 93\u001b[0m line \u001b[0;36m6\n\u001b[0;32m      <a href='vscode-notebook-cell:/c%3A/Users/monisdehloum/Desktop/nsi/Chapitre%201%20Introduction/Devoir%20Maison.ipynb#Y160sZmlsZQ%3D%3D?line=3'>4</a>\u001b[0m n\u001b[39m=\u001b[39m\u001b[39m0\u001b[39m\n\u001b[0;32m      <a href='vscode-notebook-cell:/c%3A/Users/monisdehloum/Desktop/nsi/Chapitre%201%20Introduction/Devoir%20Maison.ipynb#Y160sZmlsZQ%3D%3D?line=4'>5</a>\u001b[0m \u001b[39mwhile\u001b[39;00m x \u001b[39m+\u001b[39m y \u001b[39m<\u001b[39m \u001b[39m12\u001b[39m:\n\u001b[1;32m----> <a href='vscode-notebook-cell:/c%3A/Users/monisdehloum/Desktop/nsi/Chapitre%201%20Introduction/Devoir%20Maison.ipynb#Y160sZmlsZQ%3D%3D?line=5'>6</a>\u001b[0m     n\u001b[39m=\u001b[39mn\u001b[39m+\u001b[39;49m\u001b[39m1\u001b[39;49m\n\u001b[0;32m      <a href='vscode-notebook-cell:/c%3A/Users/monisdehloum/Desktop/nsi/Chapitre%201%20Introduction/Devoir%20Maison.ipynb#Y160sZmlsZQ%3D%3D?line=6'>7</a>\u001b[0m     x\u001b[39m+\u001b[39my\n\u001b[0;32m      <a href='vscode-notebook-cell:/c%3A/Users/monisdehloum/Desktop/nsi/Chapitre%201%20Introduction/Devoir%20Maison.ipynb#Y160sZmlsZQ%3D%3D?line=7'>8</a>\u001b[0m \u001b[39mprint\u001b[39m(n)\n",
      "\u001b[1;31mKeyboardInterrupt\u001b[0m: "
     ]
    }
   ],
   "source": [
    "import random as rd\n",
    "x=rd.randint(0,6)\n",
    "y=rd.randint(0,6)\n",
    "n=0\n",
    "while x + y < 12:\n",
    "    n=n+1\n",
    "    x+y\n",
    "print(n)\n",
    "\n"
   ]
  },
  {
   "cell_type": "markdown",
   "metadata": {},
   "source": [
    "#### IV.4) Exercice 4\n",
    "\n",
    "Écrire un programme qui demande un entier positif ou nul et qui donne ensuite son nombre de chiffre."
   ]
  },
  {
   "cell_type": "code",
   "execution_count": 1,
   "metadata": {},
   "outputs": [],
   "source": [
    "x=int(input(\"entier positif ou nul: \"))\n",
    "y=len(str(x))\n",
    "print(y)"
   ]
  },
  {
   "cell_type": "code",
   "execution_count": null,
   "metadata": {},
   "outputs": [],
   "source": []
  },
  {
   "cell_type": "markdown",
   "metadata": {},
   "source": [
    "#### IV.5) Exercice 5 \n",
    "\n",
    " Un joueur doit trouver un nombre mystère choisi de manière aléatoire par l’ordinateur. À chaque tour, le joueur propose un nombre (via la commande <code>input </code> et l’ordinateur indique si le nombre mystère est plus petit ou plus grand que le nombre proposé jusqu’à ce que le joueur trouve le nombre mystère.\n",
    " \n",
    " * Écrire un programme permettant de jouer à ce jeu avec un nombre à chercher compris entre zéro et 100. \n",
    "*  Compléter ce programme afin de faire afficher le nombre d’essais effectués."
   ]
  },
  {
   "cell_type": "code",
   "execution_count": 1,
   "metadata": {},
   "outputs": [],
   "source": [
    "import random as rd\n",
    "nb_mystère=rd.randint(0,100)\n",
    "x=int(input(\"choisit un nombre: \"))\n",
    "n=0\n",
    "\n",
    "if nb_mystère < x:\n",
    "    print(\"nombre mystère + petit que nombre saisi\")\n",
    "    n=n+1\n",
    "elif nb_mystère > x:\n",
    "    print(\"nombre mystère + grand que nombre saisi\")\n",
    "    n=n+1\n",
    "else:\n",
    "    print(\"tu as trouvé !!\")\n",
    "    print(\"ton nombre d'essais:\",n)\n",
    "\n"
   ]
  },
  {
   "cell_type": "markdown",
   "metadata": {},
   "source": [
    "#### IV.6) Exercice 6\n",
    "\n",
    "Faites une fonction qui prends en entrée 3 entiers <code> n,a,b </code> et qui donne en sortie une liste de <code>n</code> nombres aléatoires compris entre <code>a</code> et <code>b</code>."
   ]
  },
  {
   "cell_type": "code",
   "execution_count": 5,
   "metadata": {},
   "outputs": [
    {
     "ename": "NameError",
     "evalue": "name 'a' is not defined",
     "output_type": "error",
     "traceback": [
      "\u001b[1;31m---------------------------------------------------------------------------\u001b[0m",
      "\u001b[1;31mNameError\u001b[0m                                 Traceback (most recent call last)",
      "\u001b[1;32mc:\\Users\\monisdehloum\\Desktop\\nsi\\Chapitre 1 Introduction\\Devoir Maison.ipynb Cell 100\u001b[0m line \u001b[0;36m7\n\u001b[0;32m      <a href='vscode-notebook-cell:/c%3A/Users/monisdehloum/Desktop/nsi/Chapitre%201%20Introduction/Devoir%20Maison.ipynb#Y166sZmlsZQ%3D%3D?line=3'>4</a>\u001b[0m     b\u001b[39m=\u001b[39mrd\u001b[39m.\u001b[39mrandint(\u001b[39m0\u001b[39m,\u001b[39m100\u001b[39m)\n\u001b[0;32m      <a href='vscode-notebook-cell:/c%3A/Users/monisdehloum/Desktop/nsi/Chapitre%201%20Introduction/Devoir%20Maison.ipynb#Y166sZmlsZQ%3D%3D?line=4'>5</a>\u001b[0m     n\u001b[39m=\u001b[39m[rd\u001b[39m.\u001b[39mrandint(a,b)]\n\u001b[1;32m----> <a href='vscode-notebook-cell:/c%3A/Users/monisdehloum/Desktop/nsi/Chapitre%201%20Introduction/Devoir%20Maison.ipynb#Y166sZmlsZQ%3D%3D?line=6'>7</a>\u001b[0m test(a,b,n)\n",
      "\u001b[1;31mNameError\u001b[0m: name 'a' is not defined"
     ]
    }
   ],
   "source": [
    "def test(a,b,n):\n",
    "    import random as rd\n",
    "    a=rd.randint(0,100)\n",
    "    b=rd.randint(0,100)\n",
    "    n=[rd.randint(a,b)]\n",
    "    \n",
    "test(a,b,n)"
   ]
  },
  {
   "cell_type": "markdown",
   "metadata": {},
   "source": [
    "#### IV.7) Exercice 7\n",
    "Faire une fonction qui prend en entrée une liste et qui donne en sortie un dictionnaire avec comme clé les items de la liste et comme valeur le nombre de fois où cette clé est dans la liste.\n",
    "Exemple ci dessous"
   ]
  },
  {
   "cell_type": "code",
   "execution_count": null,
   "metadata": {},
   "outputs": [],
   "source": [
    "L = [1,1,1,1,3,3,5,\"b\",\"c\"]\n",
    "dico = {1:4,3:2,\"b\":1,\"c\":1}"
   ]
  },
  {
   "cell_type": "code",
   "execution_count": null,
   "metadata": {},
   "outputs": [],
   "source": []
  }
 ],
 "metadata": {
  "interpreter": {
   "hash": "11938c6bc6919ae2720b4d5011047913343b08a43b18698fd82dedb0d4417594"
  },
  "kernelspec": {
   "display_name": "Python 3.9.10 64-bit",
   "language": "python",
   "name": "python3"
  },
  "language_info": {
   "codemirror_mode": {
    "name": "ipython",
    "version": 3
   },
   "file_extension": ".py",
   "mimetype": "text/x-python",
   "name": "python",
   "nbconvert_exporter": "python",
   "pygments_lexer": "ipython3",
   "version": "3.8.2"
  },
  "orig_nbformat": 4
 },
 "nbformat": 4,
 "nbformat_minor": 2
}
